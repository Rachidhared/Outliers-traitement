{
 "cells": [
  {
   "cell_type": "markdown",
   "id": "ba266b2f",
   "metadata": {
    "tags": []
   },
   "source": [
    " <p style=\"padding: 10px;\n",
    "              color:black;\n",
    "                font-size:35px;\">\n",
    "            <b>🔘 Guide on handling Outliers</b>\n",
    "        </p>\n"
   ]
  },
  {
   "cell_type": "markdown",
   "id": "b9d68bb0-fea8-4f27-9f82-64cbd8a6e83d",
   "metadata": {},
   "source": [
    "<div style=\"color:white;\n",
    "           display:fill;\n",
    "           border-radius:5px;\n",
    "           background-color:#FF718F;\n",
    "           font-size:20px;\n",
    "           font-family:Nexa;\n",
    "           letter-spacing:0.5px\">\n",
    "        <p style=\"padding: 10px;\n",
    "              color:black;\">\n",
    "            <b>🔘 Step 1 : Import R Librarie</b>\n",
    "        </p>\n",
    "</div>"
   ]
  },
  {
   "cell_type": "code",
   "execution_count": 67,
   "id": "8a0c2df9-33b7-4f37-b1e0-54bbec571c88",
   "metadata": {
    "vscode": {
     "languageId": "r"
    }
   },
   "outputs": [],
   "source": [
    "library(\"data.table\")\n",
    "library(\"dplyr\")\n",
    "\n",
    "library(\"ggplot2\")\n",
    "\n",
    "options(repr.matrix.max.rows=5,repr.matrix.max.cols=10)\n",
    "options(repr.plot.width = 22, repr.plot.height =10)"
   ]
  },
  {
   "cell_type": "markdown",
   "id": "7bfd7f1b-d095-4b27-ad69-bd58e514e4ec",
   "metadata": {},
   "source": [
    "<div style=\"color:white;\n",
    "           display:fill;\n",
    "           border-radius:5px;\n",
    "           background-color:#FF718F;\n",
    "           font-size:20px;\n",
    "           font-family:Nexa;\n",
    "           letter-spacing:0.5px\">\n",
    "        <p style=\"padding: 10px;\n",
    "              color:black;\">\n",
    "            <b>🔘 Step 2: Reading Dataset</b>\n",
    "        </p>\n",
    "</div>"
   ]
  },
  {
   "cell_type": "code",
   "execution_count": 10,
   "id": "2d8334ef-a361-431a-916f-762e83e124a3",
   "metadata": {
    "vscode": {
     "languageId": "r"
    }
   },
   "outputs": [
    {
     "data": {
      "text/html": [
       "<table class=\"dataframe\">\n",
       "<caption>A data.frame: 891 × 12</caption>\n",
       "<thead>\n",
       "\t<tr><th scope=col>PassengerId</th><th scope=col>Survived</th><th scope=col>Pclass</th><th scope=col>Name</th><th scope=col>Sex</th><th scope=col>⋯</th><th scope=col>Parch</th><th scope=col>Ticket</th><th scope=col>Fare</th><th scope=col>Cabin</th><th scope=col>Embarked</th></tr>\n",
       "\t<tr><th scope=col>&lt;int&gt;</th><th scope=col>&lt;int&gt;</th><th scope=col>&lt;int&gt;</th><th scope=col>&lt;chr&gt;</th><th scope=col>&lt;chr&gt;</th><th scope=col>⋯</th><th scope=col>&lt;int&gt;</th><th scope=col>&lt;chr&gt;</th><th scope=col>&lt;dbl&gt;</th><th scope=col>&lt;chr&gt;</th><th scope=col>&lt;chr&gt;</th></tr>\n",
       "</thead>\n",
       "<tbody>\n",
       "\t<tr><td>1</td><td>0</td><td>3</td><td>Braund, Mr. Owen Harris                            </td><td>male  </td><td>⋯</td><td>0</td><td>A/5 21171       </td><td> 7.2500</td><td>NA </td><td>S</td></tr>\n",
       "\t<tr><td>2</td><td>1</td><td>1</td><td>Cumings, Mrs. John Bradley (Florence Briggs Thayer)</td><td>female</td><td>⋯</td><td>0</td><td>PC 17599        </td><td>71.2833</td><td>C85</td><td>C</td></tr>\n",
       "\t<tr><td>3</td><td>1</td><td>3</td><td>Heikkinen, Miss. Laina                             </td><td>female</td><td>⋯</td><td>0</td><td>STON/O2. 3101282</td><td> 7.9250</td><td>NA </td><td>S</td></tr>\n",
       "\t<tr><td>⋮</td><td>⋮</td><td>⋮</td><td>⋮</td><td>⋮</td><td>⋱</td><td>⋮</td><td>⋮</td><td>⋮</td><td>⋮</td><td>⋮</td></tr>\n",
       "\t<tr><td>890</td><td>1</td><td>1</td><td>Behr, Mr. Karl Howell</td><td>male</td><td>⋯</td><td>0</td><td>111369</td><td>30.00</td><td>C148</td><td>C</td></tr>\n",
       "\t<tr><td>891</td><td>0</td><td>3</td><td>Dooley, Mr. Patrick  </td><td>male</td><td>⋯</td><td>0</td><td>370376</td><td> 7.75</td><td>NA  </td><td>Q</td></tr>\n",
       "</tbody>\n",
       "</table>\n"
      ],
      "text/latex": [
       "A data.frame: 891 × 12\n",
       "\\begin{tabular}{lllllllllll}\n",
       " PassengerId & Survived & Pclass & Name & Sex & ⋯ & Parch & Ticket & Fare & Cabin & Embarked\\\\\n",
       " <int> & <int> & <int> & <chr> & <chr> & ⋯ & <int> & <chr> & <dbl> & <chr> & <chr>\\\\\n",
       "\\hline\n",
       "\t 1 & 0 & 3 & Braund, Mr. Owen Harris                             & male   & ⋯ & 0 & A/5 21171        &  7.2500 & NA  & S\\\\\n",
       "\t 2 & 1 & 1 & Cumings, Mrs. John Bradley (Florence Briggs Thayer) & female & ⋯ & 0 & PC 17599         & 71.2833 & C85 & C\\\\\n",
       "\t 3 & 1 & 3 & Heikkinen, Miss. Laina                              & female & ⋯ & 0 & STON/O2. 3101282 &  7.9250 & NA  & S\\\\\n",
       "\t ⋮ & ⋮ & ⋮ & ⋮ & ⋮ & ⋱ & ⋮ & ⋮ & ⋮ & ⋮ & ⋮\\\\\n",
       "\t 890 & 1 & 1 & Behr, Mr. Karl Howell & male & ⋯ & 0 & 111369 & 30.00 & C148 & C\\\\\n",
       "\t 891 & 0 & 3 & Dooley, Mr. Patrick   & male & ⋯ & 0 & 370376 &  7.75 & NA   & Q\\\\\n",
       "\\end{tabular}\n"
      ],
      "text/markdown": [
       "\n",
       "A data.frame: 891 × 12\n",
       "\n",
       "| PassengerId &lt;int&gt; | Survived &lt;int&gt; | Pclass &lt;int&gt; | Name &lt;chr&gt; | Sex &lt;chr&gt; | ⋯ ⋯ | Parch &lt;int&gt; | Ticket &lt;chr&gt; | Fare &lt;dbl&gt; | Cabin &lt;chr&gt; | Embarked &lt;chr&gt; |\n",
       "|---|---|---|---|---|---|---|---|---|---|---|\n",
       "| 1 | 0 | 3 | Braund, Mr. Owen Harris                             | male   | ⋯ | 0 | A/5 21171        |  7.2500 | NA  | S |\n",
       "| 2 | 1 | 1 | Cumings, Mrs. John Bradley (Florence Briggs Thayer) | female | ⋯ | 0 | PC 17599         | 71.2833 | C85 | C |\n",
       "| 3 | 1 | 3 | Heikkinen, Miss. Laina                              | female | ⋯ | 0 | STON/O2. 3101282 |  7.9250 | NA  | S |\n",
       "| ⋮ | ⋮ | ⋮ | ⋮ | ⋮ | ⋱ | ⋮ | ⋮ | ⋮ | ⋮ | ⋮ |\n",
       "| 890 | 1 | 1 | Behr, Mr. Karl Howell | male | ⋯ | 0 | 111369 | 30.00 | C148 | C |\n",
       "| 891 | 0 | 3 | Dooley, Mr. Patrick   | male | ⋯ | 0 | 370376 |  7.75 | NA   | Q |\n",
       "\n"
      ],
      "text/plain": [
       "    PassengerId Survived Pclass\n",
       "1   1           0        3     \n",
       "2   2           1        1     \n",
       "3   3           1        3     \n",
       "⋮   ⋮           ⋮        ⋮     \n",
       "890 890         1        1     \n",
       "891 891         0        3     \n",
       "    Name                                                Sex    ⋯ Parch\n",
       "1   Braund, Mr. Owen Harris                             male   ⋯ 0    \n",
       "2   Cumings, Mrs. John Bradley (Florence Briggs Thayer) female ⋯ 0    \n",
       "3   Heikkinen, Miss. Laina                              female ⋯ 0    \n",
       "⋮   ⋮                                                   ⋮      ⋱ ⋮    \n",
       "890 Behr, Mr. Karl Howell                               male   ⋯ 0    \n",
       "891 Dooley, Mr. Patrick                                 male   ⋯ 0    \n",
       "    Ticket           Fare    Cabin Embarked\n",
       "1   A/5 21171         7.2500 NA    S       \n",
       "2   PC 17599         71.2833 C85   C       \n",
       "3   STON/O2. 3101282  7.9250 NA    S       \n",
       "⋮   ⋮                ⋮       ⋮     ⋮       \n",
       "890 111369           30.00   C148  C       \n",
       "891 370376            7.75   NA    Q       "
      ]
     },
     "metadata": {},
     "output_type": "display_data"
    }
   ],
   "source": [
    "data=read.csv(\"train.csv\",sep=\",\",na=\"\")\n",
    "View(data)"
   ]
  },
  {
   "cell_type": "code",
   "execution_count": 11,
   "id": "50bf81c5-739b-4cae-afb7-46d38764c957",
   "metadata": {
    "vscode": {
     "languageId": "r"
    }
   },
   "outputs": [
    {
     "data": {
      "text/html": [
       "'Nombre des lignes:891, Nombres des colonnes :12'"
      ],
      "text/latex": [
       "'Nombre des lignes:891, Nombres des colonnes :12'"
      ],
      "text/markdown": [
       "'Nombre des lignes:891, Nombres des colonnes :12'"
      ],
      "text/plain": [
       "Nombre des lignes:891, Nombres des colonnes :12"
      ]
     },
     "metadata": {},
     "output_type": "display_data"
    }
   ],
   "source": [
    "glue::glue(\"Nombre des lignes:{nrow(data)}, Nombres des colonnes :{ncol(data)}\")"
   ]
  },
  {
   "cell_type": "code",
   "execution_count": 12,
   "id": "62db5a3a",
   "metadata": {
    "vscode": {
     "languageId": "r"
    }
   },
   "outputs": [
    {
     "data": {
      "text/html": [
       "<table class=\"dataframe\">\n",
       "<caption>A data.frame: 6 × 12</caption>\n",
       "<thead>\n",
       "\t<tr><th></th><th scope=col>PassengerId</th><th scope=col>Survived</th><th scope=col>Pclass</th><th scope=col>Name</th><th scope=col>Sex</th><th scope=col>⋯</th><th scope=col>Parch</th><th scope=col>Ticket</th><th scope=col>Fare</th><th scope=col>Cabin</th><th scope=col>Embarked</th></tr>\n",
       "\t<tr><th></th><th scope=col>&lt;int&gt;</th><th scope=col>&lt;int&gt;</th><th scope=col>&lt;int&gt;</th><th scope=col>&lt;chr&gt;</th><th scope=col>&lt;chr&gt;</th><th scope=col>⋯</th><th scope=col>&lt;int&gt;</th><th scope=col>&lt;chr&gt;</th><th scope=col>&lt;dbl&gt;</th><th scope=col>&lt;chr&gt;</th><th scope=col>&lt;chr&gt;</th></tr>\n",
       "</thead>\n",
       "<tbody>\n",
       "\t<tr><th scope=row>1</th><td>1</td><td>0</td><td>3</td><td>Braund, Mr. Owen Harris                            </td><td>male  </td><td>⋯</td><td>0</td><td>A/5 21171       </td><td> 7.2500</td><td>NA </td><td>S</td></tr>\n",
       "\t<tr><th scope=row>2</th><td>2</td><td>1</td><td>1</td><td>Cumings, Mrs. John Bradley (Florence Briggs Thayer)</td><td>female</td><td>⋯</td><td>0</td><td>PC 17599        </td><td>71.2833</td><td>C85</td><td>C</td></tr>\n",
       "\t<tr><th scope=row>3</th><td>3</td><td>1</td><td>3</td><td>Heikkinen, Miss. Laina                             </td><td>female</td><td>⋯</td><td>0</td><td>STON/O2. 3101282</td><td> 7.9250</td><td>NA </td><td>S</td></tr>\n",
       "\t<tr><th scope=row>⋮</th><td>⋮</td><td>⋮</td><td>⋮</td><td>⋮</td><td>⋮</td><td>⋱</td><td>⋮</td><td>⋮</td><td>⋮</td><td>⋮</td><td>⋮</td></tr>\n",
       "\t<tr><th scope=row>5</th><td>5</td><td>0</td><td>3</td><td>Allen, Mr. William Henry</td><td>male</td><td>⋯</td><td>0</td><td>373450</td><td>8.0500</td><td>NA</td><td>S</td></tr>\n",
       "\t<tr><th scope=row>6</th><td>6</td><td>0</td><td>3</td><td>Moran, Mr. James        </td><td>male</td><td>⋯</td><td>0</td><td>330877</td><td>8.4583</td><td>NA</td><td>Q</td></tr>\n",
       "</tbody>\n",
       "</table>\n"
      ],
      "text/latex": [
       "A data.frame: 6 × 12\n",
       "\\begin{tabular}{r|lllllllllll}\n",
       "  & PassengerId & Survived & Pclass & Name & Sex & ⋯ & Parch & Ticket & Fare & Cabin & Embarked\\\\\n",
       "  & <int> & <int> & <int> & <chr> & <chr> & ⋯ & <int> & <chr> & <dbl> & <chr> & <chr>\\\\\n",
       "\\hline\n",
       "\t1 & 1 & 0 & 3 & Braund, Mr. Owen Harris                             & male   & ⋯ & 0 & A/5 21171        &  7.2500 & NA  & S\\\\\n",
       "\t2 & 2 & 1 & 1 & Cumings, Mrs. John Bradley (Florence Briggs Thayer) & female & ⋯ & 0 & PC 17599         & 71.2833 & C85 & C\\\\\n",
       "\t3 & 3 & 1 & 3 & Heikkinen, Miss. Laina                              & female & ⋯ & 0 & STON/O2. 3101282 &  7.9250 & NA  & S\\\\\n",
       "\t⋮ & ⋮ & ⋮ & ⋮ & ⋮ & ⋮ & ⋱ & ⋮ & ⋮ & ⋮ & ⋮ & ⋮\\\\\n",
       "\t5 & 5 & 0 & 3 & Allen, Mr. William Henry & male & ⋯ & 0 & 373450 & 8.0500 & NA & S\\\\\n",
       "\t6 & 6 & 0 & 3 & Moran, Mr. James         & male & ⋯ & 0 & 330877 & 8.4583 & NA & Q\\\\\n",
       "\\end{tabular}\n"
      ],
      "text/markdown": [
       "\n",
       "A data.frame: 6 × 12\n",
       "\n",
       "| <!--/--> | PassengerId &lt;int&gt; | Survived &lt;int&gt; | Pclass &lt;int&gt; | Name &lt;chr&gt; | Sex &lt;chr&gt; | ⋯ ⋯ | Parch &lt;int&gt; | Ticket &lt;chr&gt; | Fare &lt;dbl&gt; | Cabin &lt;chr&gt; | Embarked &lt;chr&gt; |\n",
       "|---|---|---|---|---|---|---|---|---|---|---|---|\n",
       "| 1 | 1 | 0 | 3 | Braund, Mr. Owen Harris                             | male   | ⋯ | 0 | A/5 21171        |  7.2500 | NA  | S |\n",
       "| 2 | 2 | 1 | 1 | Cumings, Mrs. John Bradley (Florence Briggs Thayer) | female | ⋯ | 0 | PC 17599         | 71.2833 | C85 | C |\n",
       "| 3 | 3 | 1 | 3 | Heikkinen, Miss. Laina                              | female | ⋯ | 0 | STON/O2. 3101282 |  7.9250 | NA  | S |\n",
       "| ⋮ | ⋮ | ⋮ | ⋮ | ⋮ | ⋮ | ⋱ | ⋮ | ⋮ | ⋮ | ⋮ | ⋮ |\n",
       "| 5 | 5 | 0 | 3 | Allen, Mr. William Henry | male | ⋯ | 0 | 373450 | 8.0500 | NA | S |\n",
       "| 6 | 6 | 0 | 3 | Moran, Mr. James         | male | ⋯ | 0 | 330877 | 8.4583 | NA | Q |\n",
       "\n"
      ],
      "text/plain": [
       "  PassengerId Survived Pclass\n",
       "1 1           0        3     \n",
       "2 2           1        1     \n",
       "3 3           1        3     \n",
       "⋮ ⋮           ⋮        ⋮     \n",
       "5 5           0        3     \n",
       "6 6           0        3     \n",
       "  Name                                                Sex    ⋯ Parch\n",
       "1 Braund, Mr. Owen Harris                             male   ⋯ 0    \n",
       "2 Cumings, Mrs. John Bradley (Florence Briggs Thayer) female ⋯ 0    \n",
       "3 Heikkinen, Miss. Laina                              female ⋯ 0    \n",
       "⋮ ⋮                                                   ⋮      ⋱ ⋮    \n",
       "5 Allen, Mr. William Henry                            male   ⋯ 0    \n",
       "6 Moran, Mr. James                                    male   ⋯ 0    \n",
       "  Ticket           Fare    Cabin Embarked\n",
       "1 A/5 21171         7.2500 NA    S       \n",
       "2 PC 17599         71.2833 C85   C       \n",
       "3 STON/O2. 3101282  7.9250 NA    S       \n",
       "⋮ ⋮                ⋮       ⋮     ⋮       \n",
       "5 373450           8.0500  NA    S       \n",
       "6 330877           8.4583  NA    Q       "
      ]
     },
     "metadata": {},
     "output_type": "display_data"
    }
   ],
   "source": [
    "head(data)"
   ]
  },
  {
   "cell_type": "code",
   "execution_count": 23,
   "id": "f9055ed2",
   "metadata": {
    "vscode": {
     "languageId": "r"
    }
   },
   "outputs": [
    {
     "data": {
      "text/html": [
       "<table class=\"dataframe\">\n",
       "<caption>A data.frame: 6 × 12</caption>\n",
       "<thead>\n",
       "\t<tr><th></th><th scope=col>PassengerId</th><th scope=col>Survived</th><th scope=col>Pclass</th><th scope=col>Name</th><th scope=col>Sex</th><th scope=col>Age</th><th scope=col>SibSp</th><th scope=col>Parch</th><th scope=col>Ticket</th><th scope=col>Fare</th><th scope=col>Cabin</th><th scope=col>Embarked</th></tr>\n",
       "\t<tr><th></th><th scope=col>&lt;int&gt;</th><th scope=col>&lt;int&gt;</th><th scope=col>&lt;int&gt;</th><th scope=col>&lt;chr&gt;</th><th scope=col>&lt;chr&gt;</th><th scope=col>&lt;dbl&gt;</th><th scope=col>&lt;int&gt;</th><th scope=col>&lt;int&gt;</th><th scope=col>&lt;chr&gt;</th><th scope=col>&lt;dbl&gt;</th><th scope=col>&lt;chr&gt;</th><th scope=col>&lt;chr&gt;</th></tr>\n",
       "</thead>\n",
       "<tbody>\n",
       "\t<tr><th scope=row>886</th><td>886</td><td>0</td><td>3</td><td>Rice, Mrs. William (Margaret Norton)    </td><td>female</td><td>39</td><td>0</td><td>5</td><td>382652    </td><td>29.125</td><td>NA  </td><td>Q</td></tr>\n",
       "\t<tr><th scope=row>887</th><td>887</td><td>0</td><td>2</td><td>Montvila, Rev. Juozas                   </td><td>male  </td><td>27</td><td>0</td><td>0</td><td>211536    </td><td>13.000</td><td>NA  </td><td>S</td></tr>\n",
       "\t<tr><th scope=row>888</th><td>888</td><td>1</td><td>1</td><td>Graham, Miss. Margaret Edith            </td><td>female</td><td>19</td><td>0</td><td>0</td><td>112053    </td><td>30.000</td><td>B42 </td><td>S</td></tr>\n",
       "\t<tr><th scope=row>889</th><td>889</td><td>0</td><td>3</td><td>Johnston, Miss. Catherine Helen \"Carrie\"</td><td>female</td><td>NA</td><td>1</td><td>2</td><td>W./C. 6607</td><td>23.450</td><td>NA  </td><td>S</td></tr>\n",
       "\t<tr><th scope=row>890</th><td>890</td><td>1</td><td>1</td><td>Behr, Mr. Karl Howell                   </td><td>male  </td><td>26</td><td>0</td><td>0</td><td>111369    </td><td>30.000</td><td>C148</td><td>C</td></tr>\n",
       "\t<tr><th scope=row>891</th><td>891</td><td>0</td><td>3</td><td>Dooley, Mr. Patrick                     </td><td>male  </td><td>32</td><td>0</td><td>0</td><td>370376    </td><td> 7.750</td><td>NA  </td><td>Q</td></tr>\n",
       "</tbody>\n",
       "</table>\n"
      ],
      "text/latex": [
       "A data.frame: 6 × 12\n",
       "\\begin{tabular}{r|llllllllllll}\n",
       "  & PassengerId & Survived & Pclass & Name & Sex & Age & SibSp & Parch & Ticket & Fare & Cabin & Embarked\\\\\n",
       "  & <int> & <int> & <int> & <chr> & <chr> & <dbl> & <int> & <int> & <chr> & <dbl> & <chr> & <chr>\\\\\n",
       "\\hline\n",
       "\t886 & 886 & 0 & 3 & Rice, Mrs. William (Margaret Norton)     & female & 39 & 0 & 5 & 382652     & 29.125 & NA   & Q\\\\\n",
       "\t887 & 887 & 0 & 2 & Montvila, Rev. Juozas                    & male   & 27 & 0 & 0 & 211536     & 13.000 & NA   & S\\\\\n",
       "\t888 & 888 & 1 & 1 & Graham, Miss. Margaret Edith             & female & 19 & 0 & 0 & 112053     & 30.000 & B42  & S\\\\\n",
       "\t889 & 889 & 0 & 3 & Johnston, Miss. Catherine Helen \"Carrie\" & female & NA & 1 & 2 & W./C. 6607 & 23.450 & NA   & S\\\\\n",
       "\t890 & 890 & 1 & 1 & Behr, Mr. Karl Howell                    & male   & 26 & 0 & 0 & 111369     & 30.000 & C148 & C\\\\\n",
       "\t891 & 891 & 0 & 3 & Dooley, Mr. Patrick                      & male   & 32 & 0 & 0 & 370376     &  7.750 & NA   & Q\\\\\n",
       "\\end{tabular}\n"
      ],
      "text/markdown": [
       "\n",
       "A data.frame: 6 × 12\n",
       "\n",
       "| <!--/--> | PassengerId &lt;int&gt; | Survived &lt;int&gt; | Pclass &lt;int&gt; | Name &lt;chr&gt; | Sex &lt;chr&gt; | Age &lt;dbl&gt; | SibSp &lt;int&gt; | Parch &lt;int&gt; | Ticket &lt;chr&gt; | Fare &lt;dbl&gt; | Cabin &lt;chr&gt; | Embarked &lt;chr&gt; |\n",
       "|---|---|---|---|---|---|---|---|---|---|---|---|---|\n",
       "| 886 | 886 | 0 | 3 | Rice, Mrs. William (Margaret Norton)     | female | 39 | 0 | 5 | 382652     | 29.125 | NA   | Q |\n",
       "| 887 | 887 | 0 | 2 | Montvila, Rev. Juozas                    | male   | 27 | 0 | 0 | 211536     | 13.000 | NA   | S |\n",
       "| 888 | 888 | 1 | 1 | Graham, Miss. Margaret Edith             | female | 19 | 0 | 0 | 112053     | 30.000 | B42  | S |\n",
       "| 889 | 889 | 0 | 3 | Johnston, Miss. Catherine Helen \"Carrie\" | female | NA | 1 | 2 | W./C. 6607 | 23.450 | NA   | S |\n",
       "| 890 | 890 | 1 | 1 | Behr, Mr. Karl Howell                    | male   | 26 | 0 | 0 | 111369     | 30.000 | C148 | C |\n",
       "| 891 | 891 | 0 | 3 | Dooley, Mr. Patrick                      | male   | 32 | 0 | 0 | 370376     |  7.750 | NA   | Q |\n",
       "\n"
      ],
      "text/plain": [
       "    PassengerId Survived Pclass Name                                     Sex   \n",
       "886 886         0        3      Rice, Mrs. William (Margaret Norton)     female\n",
       "887 887         0        2      Montvila, Rev. Juozas                    male  \n",
       "888 888         1        1      Graham, Miss. Margaret Edith             female\n",
       "889 889         0        3      Johnston, Miss. Catherine Helen \"Carrie\" female\n",
       "890 890         1        1      Behr, Mr. Karl Howell                    male  \n",
       "891 891         0        3      Dooley, Mr. Patrick                      male  \n",
       "    Age SibSp Parch Ticket     Fare   Cabin Embarked\n",
       "886 39  0     5     382652     29.125 NA    Q       \n",
       "887 27  0     0     211536     13.000 NA    S       \n",
       "888 19  0     0     112053     30.000 B42   S       \n",
       "889 NA  1     2     W./C. 6607 23.450 NA    S       \n",
       "890 26  0     0     111369     30.000 C148  C       \n",
       "891 32  0     0     370376      7.750 NA    Q       "
      ]
     },
     "metadata": {},
     "output_type": "display_data"
    }
   ],
   "source": [
    "tail(data)"
   ]
  },
  {
   "cell_type": "markdown",
   "id": "226d97ca-d1bd-4514-bba5-7f44e32f0bf7",
   "metadata": {},
   "source": [
    "*Data Structure*"
   ]
  },
  {
   "cell_type": "code",
   "execution_count": 24,
   "id": "24866ad7-0688-4930-bf73-3e67fc9d96d3",
   "metadata": {
    "vscode": {
     "languageId": "r"
    }
   },
   "outputs": [
    {
     "name": "stdout",
     "output_type": "stream",
     "text": [
      "'data.frame':\t891 obs. of  12 variables:\n",
      " $ PassengerId: int  1 2 3 4 5 6 7 8 9 10 ...\n",
      " $ Survived   : int  0 1 1 1 0 0 0 0 1 1 ...\n",
      " $ Pclass     : int  3 1 3 1 3 3 1 3 3 2 ...\n",
      " $ Name       : chr  \"Braund, Mr. Owen Harris\" \"Cumings, Mrs. John Bradley (Florence Briggs Thayer)\" \"Heikkinen, Miss. Laina\" \"Futrelle, Mrs. Jacques Heath (Lily May Peel)\" ...\n",
      " $ Sex        : chr  \"male\" \"female\" \"female\" \"female\" ...\n",
      " $ Age        : num  22 38 26 35 35 NA 54 2 27 14 ...\n",
      " $ SibSp      : int  1 1 0 1 0 0 0 3 0 1 ...\n",
      " $ Parch      : int  0 0 0 0 0 0 0 1 2 0 ...\n",
      " $ Ticket     : chr  \"A/5 21171\" \"PC 17599\" \"STON/O2. 3101282\" \"113803\" ...\n",
      " $ Fare       : num  7.25 71.28 7.92 53.1 8.05 ...\n",
      " $ Cabin      : chr  NA \"C85\" NA \"C123\" ...\n",
      " $ Embarked   : chr  \"S\" \"C\" \"S\" \"S\" ...\n"
     ]
    }
   ],
   "source": [
    " #skimr::skim(data)\n",
    "str(data)"
   ]
  },
  {
   "cell_type": "markdown",
   "id": "5bec95f1-4d1b-4a3b-90b9-6f73d35e9559",
   "metadata": {},
   "source": [
    "<div style=\"color:white;\n",
    "           display:fill;\n",
    "           border-radius:5px;\n",
    "           background-color:#FF718F;\n",
    "           font-size:20px;\n",
    "           font-family:Nexa;\n",
    "           letter-spacing:0.5px\">\n",
    "        <p style=\"padding: 10px;\n",
    "              color:black;\">\n",
    "            <b>How to Find Outliers?</b>\n",
    "        </p>\n",
    "</div>"
   ]
  },
  {
   "cell_type": "markdown",
   "id": "c5705b44-aea2-4a02-a771-05b734dbbca6",
   "metadata": {},
   "source": [
    "<strong style=\"font-size:30px;text-align:center;\">Pourquoi se produisent-ils ?</strong>\n",
    "\n",
    "Une valeur aberrante peut survenir en raison de la variabilité des données ou d’une erreur expérimentale/humaine.\n",
    "Ils peuvent indiquer une erreur expérimentale ou une forte asymétrie des données (distribution à queue lourde).\n",
    "\n",
    "<strong style=\"font-size:30px;text-align:center;\">Qu’est-ce qu’ils affectent ?</strong>\n",
    "\n",
    "En statistiques, nous avons trois mesures de tendance centrale, à savoir la moyenne, la médiane et le mode. Ils nous aident à décrire les données.\n",
    "* La moyenne est la mesure précise pour décrire les données lorsque nous n’avons aucune valeur aberrante.\n",
    "* La médiane est utilisée s'il existe une valeur aberrante dans l'ensemble de données.\n",
    "* Le mode est utilisé s’il existe une valeur aberrante ET qu’environ la moitié ou plus des données sont identiques.\n",
    "La moyenne est la seule mesure de la tendance centrale qui est affectée par les valeurs aberrantes, ce qui à son tour a un impact sur l'écart type.\n",
    "\n",
    "<strong style=\"font-size:30px;text-align:center;\">Détection des valeurs aberrantes</strong>\n",
    "\n",
    "Si notre ensemble de données est petit, nous pouvons détecter la valeur aberrante en regardant simplement l'ensemble de données. Mais que se passe-t-il si nous disposons d’un énorme ensemble de données, comment pouvons-nous alors identifier les valeurs aberrantes ? Nous devons utiliser des techniques de visualisation et mathématiques.\n",
    "\n",
    "Vous trouverez ci-dessous quelques-unes des techniques de détection des valeurs aberrantes\n",
    "\n",
    "* Boîtes à moustaches\n",
    "* Score Z ( Normal Distribution)\n",
    "* Plage interquantile (IQR) ( Skewed Distribution)"
   ]
  },
  {
   "cell_type": "markdown",
   "id": "c314a784-85eb-4ecd-b140-80ea23d03927",
   "metadata": {},
   "source": [
    "<img src=https://cdn.discordapp.com/attachments/517815672613503006/874179036371386378/unknown.png>"
   ]
  },
  {
   "cell_type": "markdown",
   "id": "d62cead6-ca61-4616-916b-0bc95d9a0cd8",
   "metadata": {},
   "source": [
    "### Score Z & Boxplot"
   ]
  },
  {
   "cell_type": "markdown",
   "id": "1682f776-ad50-4e82-ae98-9661f94fd682",
   "metadata": {},
   "source": [
    "<div class=\"alert alert-block alert-info\" style=\";font-size:14px;font-family:nexa;\">\n",
    "<strong>Détection des valeurs aberrantes à l'aide des scores Z</strong>\n",
    "    <br> <br>\n",
    "    \n",
    "<strong>Critères :</strong> tout point de données dont le score Z se situe en dehors du 3ème écart type est une valeur aberrante.\n",
    "    \n",
    "\n",
    "<strong>Détection des valeurs aberrantes avec les scores Z</strong>\n",
    "\n",
    "Pas\n",
    "* parcourez tous les points de données et calculez le score Z à l'aide de la formule (Xi-mean)/std.\n",
    "* définissez une valeur seuil de 3 et marquez les points de données dont la valeur absolue du score Z est supérieure au seuil comme valeurs aberrantes.\n",
    "    \n",
    "</div>"
   ]
  },
  {
   "cell_type": "markdown",
   "id": "e5973283-c888-4ad0-b5e7-848f04d141bb",
   "metadata": {},
   "source": [
    "<img src=\"https://cdn.analyticsvidhya.com/wp-content/uploads/2023/09/image-76.png\">"
   ]
  },
  {
   "cell_type": "code",
   "execution_count": 65,
   "id": "b9bb1294-5961-4301-891d-192345eecd52",
   "metadata": {},
   "outputs": [
    {
     "name": "stderr",
     "output_type": "stream",
     "text": [
      "Warning message:\n",
      "\"\u001b[1m\u001b[22mUse of `data$Age` is discouraged.\n",
      "\u001b[36mℹ\u001b[39m Use `Age` instead.\"\n",
      "Warning message:\n",
      "\"\u001b[1m\u001b[22mRemoved 177 rows containing non-finite values (`stat_density()`).\"\n"
     ]
    },
    {
     "data": {
      "image/png": "[encoded data removed]",
      "text/plain": [
       "plot without title"
      ]
     },
     "metadata": {
      "image/png": {
       "height": 600,
       "width": 1320
      }
     },
     "output_type": "display_data"
    }
   ],
   "source": [
    "# Plot density\n",
    "ggplot(data, aes(x=data$Age)) +\n",
    "  geom_density(color = \"red\", fill = \"blue\", alpha = 0.328) +\n",
    "  theme_minimal()"
   ]
  },
  {
   "cell_type": "markdown",
   "id": "38cc763d-f782-4cb7-aaad-2e91dd38ef33",
   "metadata": {},
   "source": [
    "<div class=\"alert alert-block alert-info\" style=\"font-size:14px; font-family:nexa;\">\n",
    "    Nous detectons que la variable age ne suit pas la loi normale, donc la distribution est asymetrique positive. Donc nous ne pouvons pas utiliser la methode de z-score, mais celui de l'inter-quartile.\n",
    "\n",
    "Deuxiemement, le boxplot on voit qu'il y a des données manquantes\n",
    "</div>"
   ]
  },
  {
   "cell_type": "code",
   "execution_count": 58,
   "id": "accbf21b-edaa-4ec8-9506-fc43e9d9d6a3",
   "metadata": {},
   "outputs": [
    {
     "ename": "ERROR",
     "evalue": "Error in if (abs(z_score) > thres) {: valeur manquante là où TRUE / FALSE est requis\n",
     "output_type": "error",
     "traceback": [
      "Error in if (abs(z_score) > thres) {: valeur manquante là où TRUE / FALSE est requis\nTraceback:\n",
      "1. detect_outliers_zscore(data$Age, 3)"
     ]
    }
   ],
   "source": [
    "detect_outliers_zscore=function(dataframe,thres=3){\n",
    "    outliers=numeric(0)\n",
    "    mean=mean(dataframe,na.rm=TRUE)\n",
    "    std=sd(dataframe,na.rm=TRUE)\n",
    "    \n",
    "    for(i in dataframe){\n",
    "        z_score=(i-mean)/std\n",
    "        if(abs(z_score)>thres){\n",
    "            outliers=c(outliers,i)\n",
    "            }\n",
    "        }\n",
    "    return(outliers)\n",
    "    }\n",
    "\n",
    "sample_outliers=detect_outliers_zscore(data$Age,3) \n",
    "sample_outliers\n",
    "#print(\"Outliers from Z-scores method: \", sample_outliers)"
   ]
  },
  {
   "cell_type": "markdown",
   "id": "bf1c4f63-6f5a-4f51-9ea5-9592ad49cfe4",
   "metadata": {},
   "source": [
    "#### Boxplot"
   ]
  },
  {
   "cell_type": "markdown",
   "id": "7b8dbfb9-8938-452c-a964-614ca676df87",
   "metadata": {},
   "source": [
    "<div class=\"alert alert-block alert-info\" style=\" background-color:green;font-size:14px;color:white;font-family:nexa;\">\n",
    "<strong>Détection des valeurs aberrantes à l'aide de la plage inter quantile (IQR)</strong>\n",
    "\n",
    "<strong>Critères : </strong>les points de données qui se situent 1,5 fois l'IQR au-dessus du troisième trimestre et en dessous du premier trimestre sont des valeurs aberrantes. Cela montre en détail le traitement des valeurs aberrantes en Python.\n",
    "\n",
    "<strong>Pas</strong>\n",
    "* Trier l'ensemble de données par ordre croissant\n",
    "* calculer les 1er et 3ème quartiles (Q1, Q3)\n",
    "* calculer IQR=Q3-Q1\n",
    "* calculer la limite inférieure = (Q1–1,5*IQR), la limite supérieure = (Q3+1,5*IQR)\n",
    "* parcourez les valeurs de l'ensemble de données et recherchez celles qui se situent en dessous de la limite inférieure et au-dessus de la limite supérieure et marquez-les comme valeurs aberrantes\n",
    "</div>"
   ]
  },
  {
   "cell_type": "markdown",
   "id": "bbacba4f-7507-41be-b08b-6821ce11c8b0",
   "metadata": {},
   "source": [
    "<img src=\"https://editor.analyticsvidhya.com/uploads/12311IQR.png\">"
   ]
  },
  {
   "cell_type": "code",
   "execution_count": 63,
   "id": "fad301b3-70fe-4165-912a-5f3a159ebcb5",
   "metadata": {},
   "outputs": [
    {
     "name": "stderr",
     "output_type": "stream",
     "text": [
      "Warning message:\n",
      "\"\u001b[1m\u001b[22mUse of `data$Age` is discouraged.\n",
      "\u001b[36mℹ\u001b[39m Use `Age` instead.\"\n",
      "Warning message:\n",
      "\"\u001b[1m\u001b[22mRemoved 177 rows containing non-finite values (`stat_boxplot()`).\"\n"
     ]
    },
    {
     "data": {
      "image/png": "[encoded data removed]",
      "text/plain": [
       "plot without title"
      ]
     },
     "metadata": {
      "image/png": {
       "height": 600,
       "width": 1320
      }
     },
     "output_type": "display_data"
    }
   ],
   "source": [
    "# Plot density\n",
    "ggplot(data, aes(x=data$Age)) +\n",
    "  geom_boxplot() +\n",
    "\n",
    "  theme_minimal()"
   ]
  },
  {
   "cell_type": "code",
   "execution_count": 66,
   "id": "df82f2ee-3c1b-4735-9591-f3031b2790f6",
   "metadata": {},
   "outputs": [
    {
     "data": {
      "text/html": [
       "500"
      ],
      "text/latex": [
       "500"
      ],
      "text/markdown": [
       "500"
      ],
      "text/plain": [
       "[1] 500"
      ]
     },
     "metadata": {},
     "output_type": "display_data"
    }
   ],
   "source": [
    "\n",
    "detect_outliers_iqr=function(dataframe){\n",
    "    outliers=numeric(0)\n",
    "    data=sort(dataframe)\n",
    "    q1=quantile(dataframe,probs=0.25,na.rm=TRUE)\n",
    "    q3=quantile(dataframe,probs=0.75,na.rm=TRUE)\n",
    "    \n",
    "    iqr=q3-q1\n",
    "    lwr_bound=q1-(1.5*iqr)\n",
    "    upr_bound=q3+(1.5*iqr)\n",
    "    \n",
    "    for(i in dataframe){\n",
    "        if(i<lwr_bound || i>upr_bound){\n",
    "             outliers <- c(outliers, i)\n",
    "            }\n",
    "        }\n",
    "      return(outliers)\n",
    "    }\n",
    "\n",
    "detect_outliers_iqr(dat$alpha)"
   ]
  },
  {
   "cell_type": "markdown",
   "id": "9bf3d5f0-6dde-4942-890e-c89445a8a774",
   "metadata": {},
   "source": [
    "<div style=\"color:white;\n",
    "           display:fill;\n",
    "           border-radius:5px;\n",
    "           background-color:#5CCBD0;\n",
    "           font-size:20px;\n",
    "           font-family:Nexa;\n",
    "           letter-spacing:0.5px\">\n",
    "        <p style=\"padding: 10px;\n",
    "              color:black;\">\n",
    "            <b>How to Hnadling Outliers?</b>\n",
    "        </p>\n",
    "</div>"
   ]
  },
  {
   "cell_type": "markdown",
   "id": "dbfe3d65-7ae8-4437-9c81-2297ae87b335",
   "metadata": {},
   "source": [
    "<img src=https://cdn.discordapp.com/attachments/517815672613503006/874185466637877318/unknown.png>"
   ]
  },
  {
   "cell_type": "markdown",
   "id": "44fbee47-0214-45f6-9ea8-e530dee955a8",
   "metadata": {},
   "source": [
    "<div class=\"alert alert-block alert-info\" style=\"font-size:14px; font-family:nexa\">\n",
    "   <b>1. Trimming</b> est la méthode permettant de couper ou de supprimer les valeurs aberrantes à la fin de l'ensemble de données. C'est plus facile que toutes les autres méthodes. <br>\n",
    "   <b>2. Capping</b> définit une limite pour la fonctionnalité et définit la valeur de toutes les valeurs aberrantes dépassant la limite sur la valeur de la limite. Ainsi, dans l'exemple de l'étudiant, nous fixerons une limite de score et modifierons le score de l'étudiant à 2 % par celui-ci. Par exemple, 75 est la limite de score maximum que nous fixons. Le score des 2 % d'élèves aberrants sera fixé à 75. <br>\n",
    "  <b>3. Percentiles</b> est un centile égal des deux côtés pour détecter les valeurs aberrantes. Une fois que vous avez détecté ces valeurs aberrantes, vous pouvez utiliser soit le découpage, soit le plafonnement pour vous en débarrasser.\n",
    "</div>"
   ]
  },
  {
   "cell_type": "markdown",
   "id": "1ca0145e-4e17-4b2c-b604-98a3f8b78252",
   "metadata": {},
   "source": [
    "<div class=\"alert alert-block alert-info\" style=\"font-size:14px; font-family:nexa\">\n",
    "    <strong>Comment gérer les valeurs aberrantes ?</strong>\n",
    "<br>Jusqu'à présent, nous avons appris à détecter les valeurs aberrantes. La principale question est de savoir comment gérer les valeurs aberrantes ?\n",
    "<br><br>\n",
    "Vous trouverez ci-dessous quelques-unes des méthodes permettant de traiter les valeurs aberrantes :\n",
    "</div>"
   ]
  },
  {
   "cell_type": "markdown",
   "id": "c98381ac-f87c-4a54-8b55-bbfbfbde8363",
   "metadata": {},
   "source": [
    "#### <p style=\"color:Blue\">Trimming</p>"
   ]
  },
  {
   "cell_type": "markdown",
   "id": "b9ab90ea-de55-457f-8ea0-5fa93169064b",
   "metadata": {},
   "source": [
    "**Dans cette technique, nous supprimons les valeurs aberrantes de l'ensemble de données. Même si ce n’est pas une bonne pratique à suivre.**"
   ]
  },
  {
   "cell_type": "markdown",
   "id": "95574675-9eed-4b1c-ab87-03dd723965f3",
   "metadata": {},
   "source": [
    "**La valeur aberrante « 101 » est supprimée et le reste des points de données est copié dans un autre tableau « a ».**"
   ]
  },
  {
   "cell_type": "code",
   "execution_count": null,
   "id": "a12e9376-0173-4542-acc1-9ac3e69c2339",
   "metadata": {},
   "outputs": [],
   "source": [
    "data[dat$apha==500]"
   ]
  },
  {
   "cell_type": "markdown",
   "id": "950f3f3b-a517-41dd-a744-e83d713fa93f",
   "metadata": {},
   "source": [
    "#### <p style=\"color:Blue\">Capping</p>"
   ]
  },
  {
   "cell_type": "markdown",
   "id": "ddb53f32-061d-4a4b-8070-7720d947d9ad",
   "metadata": {},
   "source": [
    "**Dans cette technique, la valeur aberrante est plafonnée à une certaine valeur supérieure à la valeur du 90e centile ou plancher à un facteur inférieur à la valeur du 10e centile. Code Python pour supprimer la valeur aberrante et copier le reste des éléments dans un autre tableau.**\n",
    "\n",
    "*Les points de données inférieurs au 10e centile sont remplacés par la valeur du 10e centile et les points de données supérieurs au 90e centile sont remplacés par la valeur du 90e centile.*"
   ]
  },
  {
   "cell_type": "code",
   "execution_count": null,
   "id": "ffe3c264-2c13-4a8c-b8a1-416ac70e9733",
   "metadata": {},
   "outputs": [],
   "source": [
    "# Computing 10th, 90th percentiles and replacing the outliers \n",
    "tenth_percentile = quantile(dat$alpha, 0.1) \n",
    "ninetieth_percentile = quantile(dat$alpha, 0.9) \n",
    "# print(tenth_percentile, ninetieth_percentile)b = \n",
    "dat[dat$alpha<tenth_percentile]=tenth_percentile\n",
    "dat[dat$alpha<ninetieth_percentile]=ninetieth_percentile\n",
    "\n",
    "# print(\"Sample:\", sample) \n",
    "print(\"New array:\",b)"
   ]
  },
  {
   "cell_type": "markdown",
   "id": "2b59ad61-205d-4b2f-8e3f-ad2439ed3bee",
   "metadata": {},
   "source": [
    "#### <p style=\"color:Blue\">Imputation moyenne/médiane</p>"
   ]
  },
  {
   "cell_type": "markdown",
   "id": "3adc2b1b-97de-4907-abae-ba3d960ace38",
   "metadata": {},
   "source": [
    "**La valeur moyenne étant fortement influencée par les valeurs aberrantes, il est conseillé de remplacer les valeurs aberrantes par la valeur médiane.**"
   ]
  },
  {
   "cell_type": "code",
   "execution_count": null,
   "id": "3a0b9134-b969-44ad-af93-b215d8693f1b",
   "metadata": {},
   "outputs": [],
   "source": [
    "median = median(dat$alpha)# Replace with median for i in sample_outliers:     \n",
    "c = dat[dat$alpha==500]=40 \n",
    "print(\"Sample: \", dat) \n",
    "print(\"New array: \",c) # print(x.dtype)"
   ]
  },
  {
   "cell_type": "code",
   "execution_count": null,
   "id": "6778821a-da70-4ba4-b471-7c0037fa1377",
   "metadata": {},
   "outputs": [],
   "source": []
  }
 ],
 "metadata": {
  "kernelspec": {
   "display_name": "R",
   "language": "R",
   "name": "ir"
  },
  "language_info": {
   "codemirror_mode": "r",
   "file_extension": ".r",
   "mimetype": "text/x-r-source",
   "name": "R",
   "pygments_lexer": "r",
   "version": "4.2.2"
  }
 },
 "nbformat": 4,
 "nbformat_minor": 5
}
