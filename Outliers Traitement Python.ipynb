{
 "cells": [
  {
   "cell_type": "markdown",
   "id": "d793238c-caa3-4c50-ad78-442c3b766f1b",
   "metadata": {},
   "source": [
    " <p style=\"padding: 10px;\n",
    "              color:black;\n",
    "                font-size:35px;\">\n",
    "            <b>🔘 Guide on handling Outliers</b>\n",
    "        </p>\n"
   ]
  },
  {
   "cell_type": "markdown",
   "id": "5acbc2b0-481c-4ff9-9f82-c6533d471d8b",
   "metadata": {},
   "source": [
    "<div style=\"color:white;\n",
    "           display:fill;\n",
    "           border-radius:5px;\n",
    "           background-color:#FF718F;\n",
    "           font-size:20px;\n",
    "           font-family:Nexa;\n",
    "           letter-spacing:0.5px\">\n",
    "        <p style=\"padding: 10px;\n",
    "              color:black;\">\n",
    "            <b>🔘 Step 1 : Import R Librarie</b>\n",
    "        </p>\n",
    "</div>"
   ]
  },
  {
   "cell_type": "code",
   "execution_count": null,
   "id": "18ee0519-d3ed-45e5-bb37-e042aa5c8803",
   "metadata": {},
   "outputs": [],
   "source": [
    "#Importer les packages\n",
    "import pandas as pd\n",
    "import numpy as np\n",
    "import matplotlib.pyplot as plt\n",
    "import seaborn as sns\n",
    "import glob\n",
    "import os\n",
    "import warnings\n",
    "warnings.filterwarnings(\"ignore\")\n",
    "\n",
    "import cufflinks as cf\n",
    "cf.go_offline()\n",
    "cf.set_config_file(offline=False, world_readable=True)"
   ]
  },
  {
   "cell_type": "markdown",
   "id": "ddc8bdd1-27ba-4455-bd03-13172cf15299",
   "metadata": {},
   "source": [
    "<div style=\"color:white;\n",
    "           display:fill;\n",
    "           border-radius:5px;\n",
    "           background-color:#FF718F;\n",
    "           font-size:20px;\n",
    "           font-family:Nexa;\n",
    "           letter-spacing:0.5px\">\n",
    "        <p style=\"padding: 10px;\n",
    "              color:black;\">\n",
    "            <b>🔘 Step 1 : Reading Data</b>\n",
    "        </p>\n",
    "</div>"
   ]
  },
  {
   "cell_type": "code",
   "execution_count": null,
   "id": "455e91d0-d603-4a28-9c66-ede6cc5dfe32",
   "metadata": {},
   "outputs": [],
   "source": [
    "import pandas as pd\n",
    "df=pd.read_excel(\"vessel_call_final.xlsx\",sheet_name=0)\n",
    "df"
   ]
  },
  {
   "cell_type": "code",
   "execution_count": null,
   "id": "b3790e1e-f01f-45af-90e0-20ca29af25c5",
   "metadata": {},
   "outputs": [],
   "source": [
    "pd.set_option('display.max_rows',df.shape[0]+1)\n",
    "pd.set_option('display.max_columns',df.shape[1]+1)\n"
   ]
  },
  {
   "cell_type": "code",
   "execution_count": null,
   "id": "8a097460-6ad4-4251-a602-a30b10d9979e",
   "metadata": {},
   "outputs": [],
   "source": [
    "df.drop('Q.ENTRE',axis='columns', inplace=True)\n",
    "df.drop('Q.SORTIE',axis='columns', inplace=True)\n",
    "df.drop('Séjour Quai',axis='columns', inplace=True)\n",
    "df.drop('OPERATIONS COMMERCIALES',axis='columns', inplace=True)"
   ]
  },
  {
   "cell_type": "code",
   "execution_count": null,
   "id": "525a5459-1114-4b4f-9c69-5857d942f7bc",
   "metadata": {},
   "outputs": [],
   "source": [
    "df.describe()"
   ]
  },
  {
   "cell_type": "code",
   "execution_count": null,
   "id": "69e9d81c-97a8-4c3b-b73f-4950d6583081",
   "metadata": {},
   "outputs": [],
   "source": [
    "df.describe(include='O')\n",
    "catvars=[var for var in df if df[var].dtype=='O']\n",
    "\n"
   ]
  },
  {
   "cell_type": "code",
   "execution_count": null,
   "id": "e4834be4-eae1-4922-bcb6-f8c009d1f94b",
   "metadata": {},
   "outputs": [],
   "source": [
    "numvars=[var for var in df.columns if df[var].dtype!='O']\n",
    "catvars=df.select_dtypes(include=[\"object\"])\n",
    "numvars=df.select_dtypes(exclude=[\"object\"])\n"
   ]
  },
  {
   "cell_type": "code",
   "execution_count": null,
   "id": "3492ea66-38d9-42a6-97db-c81b96b71755",
   "metadata": {},
   "outputs": [],
   "source": [
    "numvars.info()\n"
   ]
  },
  {
   "cell_type": "code",
   "execution_count": null,
   "id": "0cee85ac-701b-4533-8a33-bf5737c0b467",
   "metadata": {},
   "outputs": [],
   "source": [
    "df[catvars].shape"
   ]
  },
  {
   "cell_type": "markdown",
   "id": "51d3d8cb-e6a3-4ffa-880a-714509e5b386",
   "metadata": {},
   "source": [
    "**Valeur abberants**\n",
    "La valeur aberrante est une terminologie couramment utilisée par les analystes et les scientifiques des données, car elle nécessite une attention particulière, sinon elle peut entraîner des estimations extrêmement erronées. En termes simples, une valeur aberrante est une observation qui semble lointaine et diverge d'un modèle global dans un échantillon.\n",
    "\n",
    "Prenons un exemple, nous effectuons le profilage des clients et découvrons que le revenu annuel moyen des clients est de 0,8 million de dollars. Mais, il y a deux clients ayant un revenu annuel de 4 et 4,2 millions de dollars. Le revenu annuel de ces deux clients est bien supérieur à celui du reste de la population. Ces deux observations seront considérées comme des valeurs aberrantes.\n",
    "\n",
    "Les causes des valeurs aberrantes peuvent être classées en deux grandes catégories :\n",
    "\n",
    "* Artificiel (Erreur) / Non naturel\n",
    "* Naturel .\n",
    "* Different type de valeur aberrantes\n",
    "\n",
    "**Comprenons plus en détail les différents types de valeurs aberrantes :**\n",
    "\n",
    "Erreurs de saisie de données :Les erreurs humaines telles que les erreurs causées lors de la collecte, de l'enregistrement ou de la saisie des données peuvent entraîner des valeurs aberrantes dans les données. Par exemple : Le revenu annuel d'un client est de 100 000 .Accidentellement,l′opérateurdesaisiemetunzérosupplémentairedanslafigure.Maintenant,lerevenudevient1000000\n",
    " , ce qui est 10 fois plus élevé. De toute évidence, ce sera la valeur aberrante par rapport au reste de la population.\n",
    "\n",
    "**Erreur de mesure :** C'est la source la plus courante de valeurs aberrantes. Cela se produit lorsque l'instrument de mesure utilisé s'avère défectueux. Par exemple : Il y a 10 balances. 9 d'entre eux sont corrects, 1 est défectueux. Le poids mesuré par les personnes sur la machine défectueuse sera supérieur/inférieur à celui du reste des personnes du groupe. Les poids mesurés sur une machine défectueuse peuvent conduire à des valeurs aberrantes.\n",
    "\n",
    "**Erreur expérimentale :** Une autre cause de valeurs aberrantes est l'erreur expérimentale. Par exemple : dans un sprint de 100 m de 7 coureurs, un coureur n'a pas réussi à se concentrer sur l'appel « Go », ce qui l'a fait partir en retard. Par conséquent, le temps de course du coureur était plus long que celui des autres coureurs. Son temps d'exécution total peut être une valeur aberrante.\n",
    "\n",
    "**Valeur aberrante intentionnelle :** on la trouve couramment dans les mesures autodéclarées qui impliquent des données sensibles. Par exemple : les adolescents déclarent généralement sous-déclarer la quantité d'alcool qu'ils consomment. Seule une fraction d'entre eux rapporterait la valeur réelle. Ici, les valeurs réelles peuvent ressembler à des valeurs aberrantes, car le reste des adolescents ne déclarent pas la consommation.\n",
    "\n",
    "**Erreur de traitement des données :** chaque fois que nous effectuons une exploration de données, nous extrayons des données de plusieurs sources. Il est possible que certaines erreurs de manipulation ou d'extraction conduisent à des valeurs aberrantes dans l'ensemble de données.\n",
    "\n",
    "**Erreur d'échantillonnage :** par exemple, nous devons mesurer la taille des athlètes. Par erreur, nous incluons quelques basketteurs dans l'échantillon. Cette inclusion est susceptible de provoquer des valeurs aberrantes dans l'ensemble de données.\n",
    "\n",
    "**Valeur aberrante naturelle :** lorsqu'une valeur aberrante n'est pas artificielle (en raison d'une erreur), il s'agit d'une valeur aberrante naturelle. Par exemple : lors de ma dernière mission avec l'une des compagnies d'assurance renommées, j'ai remarqué que la performance des 50 meilleurs conseillers financiers était bien supérieure à celle du reste de la population. Étonnamment, ce n'était pas dû à une erreur. Par conséquent, chaque fois que nous effectuons une activité d'exploration de données avec des conseillers, nous traitions ce segment séparément."
   ]
  },
  {
   "cell_type": "code",
   "execution_count": null,
   "id": "ab80299e-5f91-4db1-9d46-c46fb81aa97f",
   "metadata": {},
   "outputs": [],
   "source": [
    "# view summary statistics in numerical variables\n",
    "\n",
    "print(round(df[numerical].describe()),2)"
   ]
  },
  {
   "cell_type": "markdown",
   "id": "036b1078-dadb-4bd5-964b-9783fc65e2e6",
   "metadata": {},
   "source": [
    "**On voit que Rainfall, Evaporation, WindSpeed9am et WindSpeed3pm peut contenir des valeur aberante.\n",
    "on voit contruire le boxplot**"
   ]
  },
  {
   "cell_type": "markdown",
   "id": "853d8e60-259c-45b2-b66e-63b6cf58d535",
   "metadata": {},
   "source": [
    "<div style=\"color:white;\n",
    "           display:fill;\n",
    "           border-radius:5px;\n",
    "           background-color:#FF718F;\n",
    "           font-size:20px;\n",
    "           font-family:Nexa;\n",
    "           letter-spacing:0.5px\">\n",
    "        <p style=\"padding: 10px;\n",
    "              color:black;\">\n",
    "            <b>How to Find Outliers?</b>\n",
    "        </p>\n",
    "</div>"
   ]
  },
  {
   "cell_type": "markdown",
   "id": "f95d63a5-bc9a-47f2-a634-d0312ee33320",
   "metadata": {},
   "source": [
    "## Z-Core"
   ]
  },
  {
   "cell_type": "code",
   "execution_count": null,
   "id": "2e195a0a-34dd-4a3c-bd03-5dddca3b49a5",
   "metadata": {},
   "outputs": [],
   "source": [
    "import numpy as np\n",
    "outliers = []\n",
    "def detect_outliers_zscore(data):\n",
    "    thres = 3\n",
    "    mean = np.mean(data)\n",
    "    std = np.std(data)\n",
    "    # print(mean, std)\n",
    "    for i in data:\n",
    "        z_score = (i-mean)/std\n",
    "        if (np.abs(z_score) > thres):\n",
    "            outliers.append(i)\n",
    "    return outliers# Driver code\n",
    "sample_outliers = detect_outliers_zscore(df[\"DEADWEIGHT\"])\n",
    "print(\"Outliers from Z-scores method: \", sample_outliers)"
   ]
  },
  {
   "cell_type": "markdown",
   "id": "7a4d5ba8-0ac4-413c-a49b-a1052a71a4a3",
   "metadata": {},
   "source": [
    "## IQR"
   ]
  },
  {
   "cell_type": "code",
   "execution_count": null,
   "id": "369e5c05-5c25-4166-8fd4-edc4932a0ee7",
   "metadata": {},
   "outputs": [],
   "source": [
    "import numpy as np  \n",
    "import seaborn as sns\n",
    "# jr_boxing_weight_categories\n",
    " \n",
    "Q1=df.DEADWEIGHT.quantile(0.25)\n",
    "Q2=df.DEADWEIGHT.quantile(0.50)\n",
    "Q3=df.DEADWEIGHT.quantile(0.75)\n",
    "\n",
    "IQR = Q3 - Q1\n",
    "print('Interquartile range is', IQR)\n",
    "low_lim = Q1 - 1.5 * IQR\n",
    "up_lim = Q3 + 1.5 * IQR\n",
    "print('low_limit is', low_lim)\n",
    "print('up_limit is', up_lim)\n",
    "outlier =[]\n",
    "for x in df.DEADWEIGHT:\n",
    "    if ((x> up_lim) or (x<low_lim)):\n",
    "         outlier.append(x)\n",
    "print(' outlier in the dataset is', outlier)"
   ]
  },
  {
   "cell_type": "code",
   "execution_count": null,
   "id": "e0dee6bb-fe20-4adb-bf9a-95fb027d48f9",
   "metadata": {},
   "outputs": [],
   "source": [
    "sns.boxplot(df.DEADWEIGHT)"
   ]
  },
  {
   "cell_type": "code",
   "execution_count": null,
   "id": "756ac03e-770e-4454-92a9-38141e070293",
   "metadata": {},
   "outputs": [],
   "source": [
    "# draw boxplots to visualize outliers\n",
    "\n",
    "plt.figure(figsize=(20,25))\n",
    "plt.subplot(3,3,1)\n",
    "sns.boxplot(df['LONGUEUR'])\n",
    "\n",
    "plt.subplot(3,3,2)\n",
    "sns.boxplot(df['DEADWEIGHT'])\n",
    "\n",
    "plt.subplot(3,3,3)\n",
    "sns.boxplot(df['LARGEUR'])\n",
    "\n",
    "plt.subplot(3,3,4)\n",
    "sns.boxplot(df['T.E.AR'])\n",
    "\n",
    "plt.subplot(3,3,5)\n",
    "sns.boxplot(df['IMO NUM'])\n",
    "\n",
    "plt.subplot(3,3,6)\n",
    "sns.boxplot(df['NET TONNAGE'])\n",
    "\n",
    "plt.subplot(3,3,7)\n",
    "sns.boxplot(df['ANNEE DE CONSTRUCTION'])\n",
    "\n",
    "#plt.subplot(3,3,8)\n",
    "#sns.boxplot(df['T.E.AV'])"
   ]
  },
  {
   "cell_type": "markdown",
   "id": "5b690180-947e-483c-a118-7155909c3855",
   "metadata": {},
   "source": [
    "**Les boxplots confirmons l'existance des vleurs aberrantes**\n",
    "\n",
    "*Quel est l'impact des valeurs aberrantes sur un ensemble de données ?\n",
    "\n",
    "Les valeurs aberrantes peuvent changer radicalement les résultats de l'analyse des données et de la modélisation statistique. Il existe de nombreux impacts défavorables des valeurs aberrantes dans l'ensemble de données :\n",
    "\n",
    "Il augmente la variance d'erreur et réduit la puissance des tests statistiques\n",
    "Si les valeurs aberrantes ne sont pas distribuées de manière aléatoire, elles peuvent diminuer la normalité\n",
    "Ils peuvent biaiser ou influencer les estimations qui peuvent présenter un intérêt substantiel\n",
    "Ils peuvent également avoir une incidence sur l'hypothèse de base de la régression, de l'ANOVA et d'autres hypothèses de modèle statistique.\n",
    "\n",
    "**Vérifier la distribution des variables**\n",
    "Maintenant, je vais tracer les histogrammes pour vérifier les distributions afin de savoir si elles sont normales ou asymétriques. Si la variable suit une distribution normale, je ferai une analyse des valeurs extrêmes, sinon si elles sont asymétriques, je trouverai l'IQR (gamme interdfle)."
   ]
  },
  {
   "cell_type": "code",
   "execution_count": null,
   "id": "9f36bf5e-aea8-4698-9f73-51fcd575803f",
   "metadata": {},
   "outputs": [],
   "source": [
    "# plot histogram to check distribution\n",
    "\n",
    "plt.figure(figsize=(25,10))\n",
    "\n",
    "\n",
    "plt.subplot(3, 3, 1)\n",
    "fig = df.LONGUEUR.hist(bins=10)\n",
    "fig.set_xlabel('LONGUEUR')\n",
    "fig.set_ylabel('LONGUEUR')\n",
    "\n",
    "\n",
    "plt.subplot(3, 3, 2)\n",
    "fig = df.DEADWEIGHT.hist(bins=10)\n",
    "fig.set_xlabel('DEADWEIGHT')\n",
    "fig.set_ylabel('DEADWEIGHT')\n",
    "\n",
    "\n",
    "plt.subplot(3, 3, 3)\n",
    "fig = df.LARGEUR.hist(bins=10)\n",
    "fig.set_xlabel('LARGEUR')\n",
    "fig.set_ylabel('LARGEUR')\n",
    "\n",
    "\n",
    "plt.subplot(3, 3, 4)\n",
    "fig = df[\"T_E_AR\"].hist(bins=10)\n",
    "fig.set_xlabel('T.E.AR')\n",
    "fig.set_ylabel('T.E.AR')\n",
    "\n",
    "plt.subplot(3, 3, 5)\n",
    "fig = df[\"IMO_NUM\"].hist(bins=10)\n",
    "fig.set_xlabel('IMO NUM')\n",
    "fig.set_ylabel('IMO NUM')\n",
    "\n",
    "plt.subplot(3, 3, 6)\n",
    "fig = df[\"T_E_AV\"].hist(bins=10)\n",
    "fig.set_xlabel('T.E.AV')\n",
    "fig.set_ylabel('T.E.AV')\n",
    "\n",
    "plt.subplot(3, 3, 7)\n",
    "fig = df[\"NET_TON\"].hist(bins=10)\n",
    "fig.set_xlabel('NET TONNAGE')\n",
    "fig.set_ylabel('NET TONNAGE')\n",
    "            \n",
    "plt.subplot(3, 3, 8)\n",
    "fig = df[\"ANNEE_CONST\"].hist(bins=10)\n",
    "fig.set_xlabel('ANNEE DE CONSTRUCTION')\n",
    "fig.set_ylabel('ANNEE DE CONSTRUCTION')"
   ]
  },
  {
   "cell_type": "markdown",
   "id": "9f8a8847-c8e3-4b92-b627-7d6c25f21b04",
   "metadata": {},
   "source": [
    "Nous pouvons voir que les quatre variables sont biaisées. Donc, je vais utiliser la plage interdfle pour trouver les valeurs aberrantes."
   ]
  },
  {
   "cell_type": "code",
   "execution_count": null,
   "id": "4f03e5be-bd2c-41a0-b2c1-75e158670b3a",
   "metadata": {},
   "outputs": [],
   "source": [
    "# find outliers for Rainfall variable\n",
    "\n",
    "IQR = df.LONGUEUR.quantile(0.75) - df.LONGUEUR.quantile(0.25)\n",
    "Lower_fence = df.LONGUEUR.quantile(0.25) - (IQR * 1.5)\n",
    "Upper_fence = df.LONGUEUR.quantile(0.75) + (IQR * 1.5)\n",
    "print('LONGUEUR outliers are values < {lowerboundary} or > {upperboundary}'.format(lowerboundary=Lower_fence, upperboundary=Upper_fence))"
   ]
  },
  {
   "cell_type": "code",
   "execution_count": null,
   "id": "1749f249-e955-4a6f-a230-f37b3e561a77",
   "metadata": {},
   "outputs": [],
   "source": [
    "# find outliers for Rainfall variable\n",
    "\n",
    "IQR = df.DEADWEIGHT.quantile(0.75) - df.DEADWEIGHT.quantile(0.25)\n",
    "Lower_fence = df.DEADWEIGHT.quantile(0.25) - (IQR * 1.5)\n",
    "Upper_fence = df.DEADWEIGHT.quantile(0.75) + (IQR * 1.5)\n",
    "print('DEADWEIGHT outliers are values < {lowerboundary} or > {upperboundary}'.format(lowerboundary=Lower_fence, upperboundary=Upper_fence))"
   ]
  },
  {
   "cell_type": "code",
   "execution_count": null,
   "id": "132a4a5e-7977-42d7-8e62-cce0859a519c",
   "metadata": {},
   "outputs": [],
   "source": [
    "# find outliers for Rainfall variable\n",
    "\n",
    "IQR = df.ANNEE_CONST.quantile(0.75) - df.ANNEE_CONST.quantile(0.25)\n",
    "Lower_fence = df.ANNEE_CONST.quantile(0.25) - (IQR * 1.5)\n",
    "Upper_fence = df.ANNEE_CONST.quantile(0.75) + (IQR * 1.5)\n",
    "print('ANNEE_CONST outliers are values < {lowerboundary} or > {upperboundary}'.format(lowerboundary=Lower_fence, upperboundary=Upper_fence))\n"
   ]
  },
  {
   "cell_type": "code",
   "execution_count": null,
   "id": "d0a94ae5-4777-48e1-9b21-268c7664d211",
   "metadata": {},
   "outputs": [],
   "source": [
    "# find outliers for Rainfall variable\n",
    "\n",
    "IQR = df.IMO_NUM.quantile(0.75) - df.IMO_NUM.quantile(0.25)\n",
    "Lower_fence = df.IMO_NUM.quantile(0.25) - (IQR * 1.5)\n",
    "Upper_fence = df.IMO_NUM.quantile(0.75) + (IQR * 1.5)\n",
    "print('IMO_NUM outliers are values < {lowerboundary} or > {upperboundary}'.format(lowerboundary=Lower_fence, upperboundary=Upper_fence))\n"
   ]
  },
  {
   "cell_type": "code",
   "execution_count": null,
   "id": "84aed6f1-5c0d-4870-a522-e62976092527",
   "metadata": {},
   "outputs": [],
   "source": [
    "# find outliers for Rainfall variable\n",
    "\n",
    "IQR = df.NET_TON.quantile(0.75) - df.NET_TON.quantile(0.25)\n",
    "Lower_fence = df.NET_TON.quantile(0.25) - (IQR * 1.5)\n",
    "Upper_fence = df.NET_TON.quantile(0.75) + (IQR * 1.5)\n",
    "print('NET_TON outliers are values < {lowerboundary} or > {upperboundary}'.format(lowerboundary=Lower_fence, upperboundary=Upper_fence))\n"
   ]
  },
  {
   "cell_type": "code",
   "execution_count": null,
   "id": "0c365908-56ef-47d6-a200-9912c72414b7",
   "metadata": {},
   "outputs": [],
   "source": [
    "# find outliers for Rainfall variable\n",
    "\n",
    "IQR = df.T_E_AV.quantile(0.75) - df.T_E_AV.quantile(0.25)\n",
    "Lower_fence = df.T_E_AV.quantile(0.25) - (IQR * 1.5)\n",
    "Upper_fence = df.T_E_AV.quantile(0.75) + (IQR * 1.5)\n",
    "print('T_E_AV outliers are values < {lowerboundary} or > {upperboundary}'.format(lowerboundary=Lower_fence, upperboundary=Upper_fence))\n"
   ]
  },
  {
   "cell_type": "code",
   "execution_count": null,
   "id": "fcabf4cf-38cf-4ece-abdd-9b10fa3c01c0",
   "metadata": {},
   "outputs": [],
   "source": [
    "# find outliers for Rainfall variable\n",
    "\n",
    "IQR = df.T_E_AR.quantile(0.75) - df.T_E_AR.quantile(0.25)\n",
    "Lower_fence = df.T_E_AR.quantile(0.25) - (IQR * 1.5)\n",
    "Upper_fence = df.T_E_AR.quantile(0.75) + (IQR * 1.5)\n",
    "print('T_E_AR outliers are values < {lowerboundary} or > {upperboundary}'.format(lowerboundary=Lower_fence, upperboundary=Upper_fence))"
   ]
  },
  {
   "cell_type": "code",
   "execution_count": null,
   "id": "cbcfc2ea-1c83-4551-b37b-d1a666ddda40",
   "metadata": {},
   "outputs": [],
   "source": [
    "Pour \"WindSpeed3pm\", les valeurs minimales et maximales sont 0,0 et 87,0. Ainsi, les valeurs aberrantes sont des valeurs > 57.0."
   ]
  },
  {
   "cell_type": "code",
   "execution_count": null,
   "id": "f4fd1026-aeb3-4d1f-af1f-6acfee0f5f32",
   "metadata": {},
   "outputs": [],
   "source": [
    "Correction Valeurs aberrantes dans les variables numériques¶\n",
    "Nous avons vu que les colonnes Rainfall, Evaporation, WindSpeed9am et WindSpeed3pm contiennent des valeurs aberrantes. J'utiliserai l'approche de codage supérieur pour limiter les valeurs maximales et supprimer les valeurs aberrantes des variables ci-dessus."
   ]
  },
  {
   "cell_type": "code",
   "execution_count": null,
   "id": "f8b32a85-b6d2-4e6c-92a4-100a40d21a61",
   "metadata": {},
   "outputs": [],
   "source": [
    "df.columns"
   ]
  },
  {
   "cell_type": "markdown",
   "id": "476b7fbb-2261-4912-aa82-e8ebdad084d3",
   "metadata": {},
   "source": [
    "<div style=\"color:white;\n",
    "           display:fill;\n",
    "           border-radius:5px;\n",
    "           background-color:#5CCBD0;\n",
    "           font-size:20px;\n",
    "           font-family:Nexa;\n",
    "           letter-spacing:0.5px\">\n",
    "        <p style=\"padding: 10px;\n",
    "              color:black;\">\n",
    "            <b>How to Hnadling Outliers?</b>\n",
    "        </p>\n",
    "</div>"
   ]
  },
  {
   "cell_type": "markdown",
   "id": "4a6a4e76-b582-4f41-9bb7-d4fa41948bb1",
   "metadata": {},
   "source": [
    "<div class=\"alert alert-block alert-info\" style=\"font-size:14px; font-family:nexa\">\n",
    "   <b>1. Trimming</b> est la méthode permettant de couper ou de supprimer les valeurs aberrantes à la fin de l'ensemble de données. C'est plus facile que toutes les autres méthodes. <br>\n",
    "   <b>2. Capping</b> définit une limite pour la fonctionnalité et définit la valeur de toutes les valeurs aberrantes dépassant la limite sur la valeur de la limite. Ainsi, dans l'exemple de l'étudiant, nous fixerons une limite de score et modifierons le score de l'étudiant à 2 % par celui-ci. Par exemple, 75 est la limite de score maximum que nous fixons. Le score des 2 % d'élèves aberrants sera fixé à 75. <br>\n",
    "  <b>3. Percentiles</b> est un centile égal des deux côtés pour détecter les valeurs aberrantes. Une fois que vous avez détecté ces valeurs aberrantes, vous pouvez utiliser soit le découpage, soit le plafonnement pour vous en débarrasser.\n",
    "</div>"
   ]
  },
  {
   "cell_type": "markdown",
   "id": "683e2283-4aeb-4279-a854-517b073e4d8b",
   "metadata": {},
   "source": [
    "<div class=\"alert alert-block alert-info\" style=\"font-size:14px; font-family:nexa\">\n",
    "    <strong>Comment gérer les valeurs aberrantes ?</strong>\n",
    "<br>Jusqu'à présent, nous avons appris à détecter les valeurs aberrantes. La principale question est de savoir comment gérer les valeurs aberrantes ?\n",
    "<br><br>\n",
    "Vous trouverez ci-dessous quelques-unes des méthodes permettant de traiter les valeurs aberrantes :\n",
    "</div>"
   ]
  },
  {
   "cell_type": "markdown",
   "id": "6ccc7cb6-67e9-4a4d-9884-a0163ec1ecfb",
   "metadata": {},
   "source": [
    " #### <p style=\"color:Blue\">Trimming</p>"
   ]
  },
  {
   "cell_type": "code",
   "execution_count": null,
   "id": "aa230c5e-9643-4009-8d90-7e0624ade236",
   "metadata": {},
   "outputs": [],
   "source": []
  },
  {
   "cell_type": "code",
   "execution_count": null,
   "id": "8beae446-61fe-48b8-a992-eff24c5722e8",
   "metadata": {},
   "outputs": [],
   "source": []
  },
  {
   "cell_type": "markdown",
   "id": "18329a8e-4509-4876-ae0e-7bd55f9df4dd",
   "metadata": {},
   "source": [
    " #### <p style=\"color:Blue\">Capping with Z-core with normal distriubution variable</p>"
   ]
  },
  {
   "cell_type": "code",
   "execution_count": null,
   "id": "ed369ce2-ece2-43d4-98d8-f3271071a23d",
   "metadata": {},
   "outputs": [],
   "source": [
    "def max_value(df, variable, top):\n",
    "    return np.where(df[variable]>top, top, df[variable])\n",
    "\n",
    "\n",
    "\n",
    "df['LONGUEUR'] = max_value(df, 'LONGUEUR', 254.84)\n",
    "df['LARGEUR'] = max_value(df, 'LARGEUR', 39.55)\n",
    "df['ANNEE_CONST'] = max_value(df, 'ANNEE_CONST', 2017.5)\n",
    "df['IMO_NUM'] = max_value(df, 'IMO_NUM', 9963252.25)\n",
    "df['DEADWEIGHT'] = max_value(df, 'DEADWEIGHT',73644.625)\n",
    "df['NET_TON'] = max_value(df, 'NET_TON', 27278.0)\n",
    "df['T_E_AV'] = max_value(df, 'T_E_AV', 13.45)\n",
    "df['T_E_AR'] = max_value(df, 'T_E_AR', 15.408749999999998)\n"
   ]
  },
  {
   "cell_type": "code",
   "execution_count": null,
   "id": "c4b0bed1-fa0f-4ed9-a42a-766979a899a5",
   "metadata": {},
   "outputs": [],
   "source": [
    "def min_value(df, variable, less):\n",
    "    return np.where(df[variable]<less, less, df[variable])\n",
    "\n",
    "\n",
    "df['LONGUEUR'] = min_value(df, 'LONGUEUR', 129.91874999999996)\n",
    "df['LARGEUR'] = min_value(df, 'LARGEUR', 20.11)\n",
    "df['ANNEE_CONST'] = min_value(df, 'ANNEE_CONST', 1997.5)\n",
    "df['IMO_NUM'] = min_value(df, 'IMO_NUM', 8841394.25)\n",
    "df['DEADWEIGHT'] = min_value(df, 'DEADWEIGHT',803.625)\n",
    "df['NET_TON'] = min_value(df, 'NET_TON', 430)\n",
    "df['T_E_AV'] = min_value(df, 'T_E_AV', 5.849999999999999)\n",
    "df['T_E_AR'] = min_value(df, 'T_E_AR', 6.398750000000001)\n"
   ]
  },
  {
   "cell_type": "code",
   "execution_count": null,
   "id": "0ebaf9c2-e9a8-4812-b722-10ce3a126b9e",
   "metadata": {},
   "outputs": [],
   "source": [
    "df.DEADWEIGHT.max()"
   ]
  },
  {
   "cell_type": "markdown",
   "id": "42201a2d-a564-4dfa-8e64-5c79e27db3b7",
   "metadata": {},
   "source": [
    " #### <p style=\"color:Blue\">Capping with IQR with Skewesed distriubution variable</p>"
   ]
  },
  {
   "cell_type": "code",
   "execution_count": 4,
   "id": "f9c6d355-28bf-4096-8be4-fb9e25fb9d5b",
   "metadata": {},
   "outputs": [
    {
     "ename": "SyntaxError",
     "evalue": "incomplete input (144438651.py, line 30)",
     "output_type": "error",
     "traceback": [
      "\u001b[1;36m  Cell \u001b[1;32mIn [4], line 30\u001b[1;36m\u001b[0m\n\u001b[1;33m    repair_outliers('DEADWEIGHT'\u001b[0m\n\u001b[1;37m                                ^\u001b[0m\n\u001b[1;31mSyntaxError\u001b[0m\u001b[1;31m:\u001b[0m incomplete input\n"
     ]
    }
   ],
   "source": [
    "def repair_outliers(name):\n",
    "    ###Finding the IQR\n",
    "    percentile25 = df[name].quantile(0.25)\n",
    "    percentile75 = df[name].quantile(0.75)\n",
    "    \n",
    "    ### Finding upper and lower limit\n",
    "    upper_limit = percentile75 + 1.5 * (percentile75-percentile25)\n",
    "    lower_limit = percentile25 - 1.5 * (percentile75-percentile25)\n",
    "    \n",
    "    ### Step-7: Finding Outliers\n",
    "    #df[df['IMO NUM'] > upper_limit]\n",
    "    #df[df['IMO NUM'] < lower_limit]\n",
    "\n",
    "    #### Step-10: Capping\n",
    "    df[name] = np.where(\n",
    "    df[name] > upper_limit,upper_limit,\n",
    "    np.where(df[name] < lower_limit,lower_limit,df[name]\n",
    "    )\n",
    "    )\n",
    "\n",
    "\n",
    "    \n",
    "repair_outliers('LONGUEUR')\n",
    "repair_outliers('LARGEUR')\n",
    "repair_outliers('IMO_NUM')\n",
    "repair_outliers('ANNEE_CONST')\n",
    "repair_outliers('T_E_AR')\n",
    "repair_outliers('T_E_AV')\n",
    "repair_outliers('NET_TON')\n",
    "repair_outliers('DEADWEIGHT'"
   ]
  },
  {
   "cell_type": "code",
   "execution_count": null,
   "id": "a4ba832e-59f7-4182-8225-21afd3aadd18",
   "metadata": {},
   "outputs": [],
   "source": [
    "# draw boxplots to visualize outliers\n",
    "\n",
    "plt.figure(figsize=(20,25))\n",
    "plt.subplot(3,3,1)\n",
    "sns.boxplot(df['LONGUEUR'])\n",
    "\n",
    "plt.subplot(3,3,2)\n",
    "sns.boxplot(df['DEADWEIGHT'])\n",
    "\n",
    "plt.subplot(3,3,3)\n",
    "sns.boxplot(df['LARGEUR'])\n",
    "\n",
    "plt.subplot(3,3,4)\n",
    "sns.boxplot(df['T_E_AR'])\n",
    "\n",
    "plt.subplot(3,3,5)\n",
    "sns.boxplot(df['IMO_NUM'])\n",
    "\n",
    "plt.subplot(3,3,6)\n",
    "sns.boxplot(df['NET_TON'])\n",
    "\n",
    "plt.subplot(3,3,7)\n",
    "sns.boxplot(df['ANNEE_CONST'])\n",
    "\n",
    "plt.subplot(3,3,8)\n",
    "sns.boxplot(df['T_E_AV'])"
   ]
  },
  {
   "cell_type": "markdown",
   "id": "ebf399d1-a49e-410a-b0d0-155ec08f0f88",
   "metadata": {},
   "source": [
    "**Quel est l'impact des valeurs aberrantes sur un ensemble de données ?**\n",
    "\n",
    "* Les valeurs aberrantes peuvent changer radicalement les résultats de l'analyse des données et de la modélisation statistique. Il existe de nombreux impacts défavorables des valeurs aberrantes dans l'ensemble de données :\n",
    "\n",
    "* Il augmente la variance d'erreur et réduit la puissance des tests statistiques\n",
    "* Si les valeurs aberrantes ne sont pas distribuées de manière aléatoire, elles peuvent diminuer la normalité\n",
    "* Ils peuvent biaiser ou influencer les estimations qui peuvent présenter un intérêt substantiel\n",
    "* Ils peuvent également avoir une incidence sur l'hypothèse de base de la régression, de l'ANOVA et d'autres hypothèses de modèle statistique."
   ]
  },
  {
   "cell_type": "code",
   "execution_count": null,
   "id": "f446b1da-673e-4488-aca3-9a6a7cd762dd",
   "metadata": {},
   "outputs": [],
   "source": [
    "df[numerical].describe()"
   ]
  }
 ],
 "metadata": {
  "kernelspec": {
   "display_name": "Python 3 (ipykernel)",
   "language": "python",
   "name": "python3"
  },
  "language_info": {
   "codemirror_mode": {
    "name": "ipython",
    "version": 3
   },
   "file_extension": ".py",
   "mimetype": "text/x-python",
   "name": "python",
   "nbconvert_exporter": "python",
   "pygments_lexer": "ipython3",
   "version": "3.11.0"
  }
 },
 "nbformat": 4,
 "nbformat_minor": 5
}
